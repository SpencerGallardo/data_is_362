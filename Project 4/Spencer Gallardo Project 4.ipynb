{
 "cells": [
  {
   "cell_type": "markdown",
   "metadata": {},
   "source": [
    "# IS 362 – Spencer Gallardo Mushrooom Project 4\n",
    "\n",
    "I'm going to use scikit-learn to determine which of the two predictor columns that I selected (odor and one other column of your choice) most accurately predicts whether or not a mushroom is poisonous. \n"
   ]
  },
  {
   "cell_type": "code",
   "execution_count": 47,
   "metadata": {},
   "outputs": [],
   "source": [
    "# Display the plots inside this notebook\n",
    "%matplotlib inline\n",
    "# import matplotlib for graphics\n",
    "import matplotlib.pyplot as plt\n",
    "# import seaborn for graphics\n",
    "import seaborn as sns\n",
    "# as you will see, this project is a classification problem. So, \n",
    "# we import the KNeighborsClassifier library from scikit-learn.\n",
    "from sklearn.neighbors import KNeighborsClassifier\n",
    "# import the metrics module from scikit-learn for testing our models\n",
    "from sklearn import metrics\n",
    "\n",
    "import numpy as np\n",
    "import pandas as pd\n",
    "#set some pandas options controling output format\n",
    "pd.set_option('display.notebook_repr_html',True) # output as flat text and not HTML\n",
    "pd.set_option('display.max_rows', None) # this is the maximum number of rows we will display\n",
    "pd.set_option('display.max_columns', None) # this is the maximum number of rows we will display\n",
    "\n",
    "# setting up seaborn output\n",
    "# Set the seaborn grid type to whitegrid. Whitegrid displays sightlines, font_scale set the font size.\n",
    "sns.set(style='whitegrid',font_scale=4)\n",
    "# Use pastel colors for the plot\n",
    "sns.set_color_codes('pastel')"
   ]
  },
  {
   "cell_type": "code",
   "execution_count": 48,
   "metadata": {},
   "outputs": [],
   "source": [
    "# I'm importing the colums for poisonous, cap-color and odoer and naming them accordingly.\n",
    "dfFungi = pd.read_csv(\"data_src/agaricus-data.csv\", \\\n",
    "                      header = None, \\\n",
    "                      usecols = [0, 3, 5,], \\\n",
    "                      names = ['poisonous', 'color', 'odor'])"
   ]
  },
  {
   "cell_type": "code",
   "execution_count": 49,
   "metadata": {},
   "outputs": [
    {
     "data": {
      "text/html": [
       "<div>\n",
       "<style scoped>\n",
       "    .dataframe tbody tr th:only-of-type {\n",
       "        vertical-align: middle;\n",
       "    }\n",
       "\n",
       "    .dataframe tbody tr th {\n",
       "        vertical-align: top;\n",
       "    }\n",
       "\n",
       "    .dataframe thead th {\n",
       "        text-align: right;\n",
       "    }\n",
       "</style>\n",
       "<table border=\"1\" class=\"dataframe\">\n",
       "  <thead>\n",
       "    <tr style=\"text-align: right;\">\n",
       "      <th></th>\n",
       "      <th>poisonous</th>\n",
       "      <th>color</th>\n",
       "      <th>odor</th>\n",
       "    </tr>\n",
       "  </thead>\n",
       "  <tbody>\n",
       "    <tr>\n",
       "      <th>0</th>\n",
       "      <td>1</td>\n",
       "      <td>n</td>\n",
       "      <td>p</td>\n",
       "    </tr>\n",
       "    <tr>\n",
       "      <th>1</th>\n",
       "      <td>0</td>\n",
       "      <td>y</td>\n",
       "      <td>a</td>\n",
       "    </tr>\n",
       "    <tr>\n",
       "      <th>2</th>\n",
       "      <td>0</td>\n",
       "      <td>w</td>\n",
       "      <td>l</td>\n",
       "    </tr>\n",
       "    <tr>\n",
       "      <th>3</th>\n",
       "      <td>1</td>\n",
       "      <td>w</td>\n",
       "      <td>p</td>\n",
       "    </tr>\n",
       "    <tr>\n",
       "      <th>4</th>\n",
       "      <td>0</td>\n",
       "      <td>g</td>\n",
       "      <td>n</td>\n",
       "    </tr>\n",
       "  </tbody>\n",
       "</table>\n",
       "</div>"
      ],
      "text/plain": [
       "   poisonous color odor\n",
       "0          1     n    p\n",
       "1          0     y    a\n",
       "2          0     w    l\n",
       "3          1     w    p\n",
       "4          0     g    n"
      ]
     },
     "execution_count": 49,
     "metadata": {},
     "output_type": "execute_result"
    }
   ],
   "source": [
    "# I'm creating a dictionary to hold the values for the replacement\n",
    "# of the strings to integers. For the edible column I'm using :\n",
    "# 0 : if it IS NOT poisonous (edible), and \n",
    "# 1 : if it IS poisonous.\n",
    "dictNewValues = {\n",
    "    'e' : 0, \\\n",
    "    'p' : 1\n",
    "}\n",
    "\n",
    "# replace the cell values with the values in the dictionary\n",
    "dfFungi.replace({'poisonous': dictNewValues}, inplace=True)\n",
    "\n",
    "# review the dataframe\n",
    "dfFungi.head(5)"
   ]
  },
  {
   "cell_type": "code",
   "execution_count": 50,
   "metadata": {},
   "outputs": [
    {
     "data": {
      "text/html": [
       "<div>\n",
       "<style scoped>\n",
       "    .dataframe tbody tr th:only-of-type {\n",
       "        vertical-align: middle;\n",
       "    }\n",
       "\n",
       "    .dataframe tbody tr th {\n",
       "        vertical-align: top;\n",
       "    }\n",
       "\n",
       "    .dataframe thead th {\n",
       "        text-align: right;\n",
       "    }\n",
       "</style>\n",
       "<table border=\"1\" class=\"dataframe\">\n",
       "  <thead>\n",
       "    <tr style=\"text-align: right;\">\n",
       "      <th></th>\n",
       "      <th>poisonous</th>\n",
       "      <th>color</th>\n",
       "      <th>odor</th>\n",
       "    </tr>\n",
       "  </thead>\n",
       "  <tbody>\n",
       "    <tr>\n",
       "      <th>0</th>\n",
       "      <td>1</td>\n",
       "      <td>0</td>\n",
       "      <td>p</td>\n",
       "    </tr>\n",
       "    <tr>\n",
       "      <th>1</th>\n",
       "      <td>0</td>\n",
       "      <td>9</td>\n",
       "      <td>a</td>\n",
       "    </tr>\n",
       "    <tr>\n",
       "      <th>2</th>\n",
       "      <td>0</td>\n",
       "      <td>8</td>\n",
       "      <td>l</td>\n",
       "    </tr>\n",
       "    <tr>\n",
       "      <th>3</th>\n",
       "      <td>1</td>\n",
       "      <td>8</td>\n",
       "      <td>p</td>\n",
       "    </tr>\n",
       "    <tr>\n",
       "      <th>4</th>\n",
       "      <td>0</td>\n",
       "      <td>3</td>\n",
       "      <td>n</td>\n",
       "    </tr>\n",
       "  </tbody>\n",
       "</table>\n",
       "</div>"
      ],
      "text/plain": [
       "   poisonous  color odor\n",
       "0          1      0    p\n",
       "1          0      9    a\n",
       "2          0      8    l\n",
       "3          1      8    p\n",
       "4          0      3    n"
      ]
     },
     "execution_count": 50,
     "metadata": {},
     "output_type": "execute_result"
    }
   ],
   "source": [
    "# simmilarly to the edible column I am using the same dictionary variable \n",
    "# for the cap-color dictionary\n",
    "# brown=n = 0\n",
    "# buff=b = 1\n",
    "# cinnamon=c = 2\n",
    "# gray=g = 3\n",
    "# green=r = 4\n",
    "# pink=p = 5\n",
    "# purple=u = 6\n",
    "# red=e = 7\n",
    "# white=w = 8\n",
    "# yellow=y = 9\n",
    "\n",
    "dictNewValues = {\n",
    "    'n' : 0, \\\n",
    "    'b' : 1, \\\n",
    "    'c' : 2, \\\n",
    "    'g' : 3, \\\n",
    "    'r' : 4, \\\n",
    "    'p' : 5, \\\n",
    "    'u' : 6, \\\n",
    "    'e' : 7, \\\n",
    "    'w' : 8, \\\n",
    "    'y' : 9, \n",
    "}\n",
    "\n",
    "# replace the cell values with the values in the dictionary\n",
    "dfFungi.replace({'color': dictNewValues}, inplace=True)\n",
    "\n",
    "# review the dataframe\n",
    "dfFungi.head(5)"
   ]
  },
  {
   "cell_type": "code",
   "execution_count": 54,
   "metadata": {},
   "outputs": [
    {
     "data": {
      "text/html": [
       "<div>\n",
       "<style scoped>\n",
       "    .dataframe tbody tr th:only-of-type {\n",
       "        vertical-align: middle;\n",
       "    }\n",
       "\n",
       "    .dataframe tbody tr th {\n",
       "        vertical-align: top;\n",
       "    }\n",
       "\n",
       "    .dataframe thead th {\n",
       "        text-align: right;\n",
       "    }\n",
       "</style>\n",
       "<table border=\"1\" class=\"dataframe\">\n",
       "  <thead>\n",
       "    <tr style=\"text-align: right;\">\n",
       "      <th></th>\n",
       "      <th>poisonous</th>\n",
       "      <th>color</th>\n",
       "      <th>odor</th>\n",
       "    </tr>\n",
       "  </thead>\n",
       "  <tbody>\n",
       "    <tr>\n",
       "      <th>0</th>\n",
       "      <td>1</td>\n",
       "      <td>0</td>\n",
       "      <td>7</td>\n",
       "    </tr>\n",
       "    <tr>\n",
       "      <th>1</th>\n",
       "      <td>0</td>\n",
       "      <td>9</td>\n",
       "      <td>0</td>\n",
       "    </tr>\n",
       "    <tr>\n",
       "      <th>2</th>\n",
       "      <td>0</td>\n",
       "      <td>8</td>\n",
       "      <td>1</td>\n",
       "    </tr>\n",
       "    <tr>\n",
       "      <th>3</th>\n",
       "      <td>1</td>\n",
       "      <td>8</td>\n",
       "      <td>7</td>\n",
       "    </tr>\n",
       "    <tr>\n",
       "      <th>4</th>\n",
       "      <td>0</td>\n",
       "      <td>3</td>\n",
       "      <td>6</td>\n",
       "    </tr>\n",
       "  </tbody>\n",
       "</table>\n",
       "</div>"
      ],
      "text/plain": [
       "   poisonous  color  odor\n",
       "0          1      0     7\n",
       "1          0      9     0\n",
       "2          0      8     1\n",
       "3          1      8     7\n",
       "4          0      3     6"
      ]
     },
     "execution_count": 54,
     "metadata": {},
     "output_type": "execute_result"
    }
   ],
   "source": [
    "# simmilarly to the other columns I am using the same dictionary variable \n",
    "# for the odor dictionary\n",
    "# almond=a = 0\n",
    "# anise=l = 1\n",
    "# creosote=c = 2\n",
    "# fishy=y = 3\n",
    "# foul=f = 4\n",
    "# musty=m = 5\n",
    "# none=n = 6\n",
    "# pungent=p = 7\n",
    "# spicy=s = 8\n",
    "\n",
    "dictNewValues = {\n",
    "    'a' : 0, \\\n",
    "    'l' : 1, \\\n",
    "    'c' : 2, \\\n",
    "    'y' : 3, \\\n",
    "    'f' : 4, \\\n",
    "    'm' : 5, \\\n",
    "    'n' : 6, \\\n",
    "    'p' : 7, \\\n",
    "    's' : 8\n",
    "}\n",
    "\n",
    "# replace the cell values with the values in the dictionary\n",
    "dfFungi.replace({'odor': dictNewValues}, inplace=True)\n",
    "\n",
    "# review the dataframe\n",
    "dfFungi.head(5)"
   ]
  },
  {
   "cell_type": "code",
   "execution_count": 55,
   "metadata": {},
   "outputs": [
    {
     "data": {
      "text/plain": [
       "(8124, 3)"
      ]
     },
     "execution_count": 55,
     "metadata": {},
     "output_type": "execute_result"
    }
   ],
   "source": [
    "# get the shape of this dataset\n",
    "dfFungi.shape"
   ]
  },
  {
   "cell_type": "code",
   "execution_count": 56,
   "metadata": {},
   "outputs": [
    {
     "name": "stdout",
     "output_type": "stream",
     "text": [
      "color        int64\n",
      "odor         int64\n",
      "poisonous    int64\n",
      "dtype: object\n",
      "color        int64\n",
      "odor         int64\n",
      "poisonous    int64\n",
      "dtype: object\n"
     ]
    }
   ],
   "source": [
    "# I am going to store the first 8000 observations for training and the last 124 for testing\n",
    "# below I am creating 3 series with the first 8000 observations\n",
    "sPoisonous = pd.Series(dfFungi.poisonous[:7999])\n",
    "sColor = pd.Series(dfFungi.color[:7999])\n",
    "sOdor = pd.Series(dfFungi.odor[:7999])\n",
    "\n",
    "# I assign those observations to a new dataframe containing the TRAINING data\n",
    "dfTraining = pd.DataFrame({'color':sColor, 'odor':sOdor, 'poisonous':sPoisonous})\n",
    "\n",
    "# I create 3 series with the last 124 observations for testing purposes\n",
    "sPoisonous = pd.Series(dfFungi.poisonous[8000:])\n",
    "sColor = pd.Series(dfFungi.color[8000:])\n",
    "sOdor = pd.Series(dfFungi.odor[8000:])\n",
    "\n",
    "# I assign those observations to a new dataframe containing the TESTING data\n",
    "dfTests = pd.DataFrame({'color':sColor, 'odor':sOdor, 'poisonous':sPoisonous})\n",
    "\n",
    "# display the data types of the columns\n",
    "print(dfTraining.dtypes)\n",
    "print(dfTests.dtypes)"
   ]
  },
  {
   "cell_type": "code",
   "execution_count": 57,
   "metadata": {},
   "outputs": [
    {
     "data": {
      "text/plain": [
       "KNeighborsClassifier(algorithm='auto', leaf_size=30, metric='minkowski',\n",
       "           metric_params=None, n_jobs=None, n_neighbors=5, p=2,\n",
       "           weights='uniform')"
      ]
     },
     "execution_count": 57,
     "metadata": {},
     "output_type": "execute_result"
    }
   ],
   "source": [
    "# for this assignment I will create 3 different datasets to test against:\n",
    "# knnColor : only contains the COLOR dataset\n",
    "# knnOdor : only contains the ODOR dataset\n",
    "# knnAll = contains both the color and odor data\n",
    "# below I instantiate the three different estimators:\n",
    "knnColor = KNeighborsClassifier(n_neighbors= 5)\n",
    "knnOdor = KNeighborsClassifier(n_neighbors= 5)\n",
    "knnAll = KNeighborsClassifier(n_neighbors= 5)\n",
    "\n",
    "# to fit/train the model with the data in our pandas dataframe\n",
    "# we will pass the fit() function two arguments fit(features, responses)\n",
    "# The features are the columns 'color' and 'odor' and the responses\n",
    "# are in the poisonous column.\n",
    "# NOTE: I am using the ravel() function. ravel() is a numpy function\n",
    "# that converts the supllied pandas column to the flattened array\n",
    "# scikit-learn expects.\n",
    "\n",
    "# fit the color estimator with the values from the dtraining dataset\n",
    "knnColor.fit(dfTraining[['color']].values, \\\n",
    "             dfTraining[['poisonous']].values.ravel())           \n",
    "\n",
    "# fit the odor estimator with the values from the dtraining dataset\n",
    "knnOdor.fit(dfTraining[['odor']].values, \\\n",
    "            dfTraining[['poisonous']].values.ravel())\n",
    "\n",
    "# fit the all estimator with the values from the dtraining dataset\n",
    "knnAll.fit(dfTraining[['color','odor']].values, \\\n",
    "           dfTraining[['poisonous']].values.ravel())"
   ]
  },
  {
   "cell_type": "code",
   "execution_count": 58,
   "metadata": {},
   "outputs": [
    {
     "name": "stdout",
     "output_type": "stream",
     "text": [
      "0.5403225806451613\n"
     ]
    }
   ],
   "source": [
    "# Test the color estimator against the testing dataset and store the results in the testing dataframe.\n",
    "dfTests['preColor'] = pd.Series(knnColor.predict(dfTests[['color']].values), dfTests.index)\\\n",
    "\n",
    "# print the accuracy score of the color estimator\n",
    "print(metrics.accuracy_score( \\\n",
    "                             dfTests[['poisonous']].values.ravel(), \\\n",
    "                             dfTests[['preColor']].values))"
   ]
  },
  {
   "cell_type": "code",
   "execution_count": 59,
   "metadata": {},
   "outputs": [
    {
     "name": "stdout",
     "output_type": "stream",
     "text": [
      "1.0\n"
     ]
    }
   ],
   "source": [
    "# Test the odor estimator against the testing dataset and store the results in the testing dataframe.\n",
    "dfTests['preOdor'] = pd.Series(knnOdor.predict(dfTests[['odor']].values), dfTests.index)\n",
    "\n",
    "# print the accuracy score of the odor estimator\n",
    "print(metrics.accuracy_score( \\\n",
    "                             dfTests[['poisonous']].values.ravel(), \\\n",
    "                             dfTests[['preOdor']].values))"
   ]
  },
  {
   "cell_type": "code",
   "execution_count": 60,
   "metadata": {},
   "outputs": [
    {
     "name": "stdout",
     "output_type": "stream",
     "text": [
      "1.0\n"
     ]
    }
   ],
   "source": [
    "# Test the all estimator against the testing dataset and store the results in the testing dataframe.\n",
    "dfTests['preAll'] = pd.Series(knnAll.predict(dfTests[['color','odor']].values), dfTests.index)\n",
    "\n",
    "# print the accuracy score of the all estimator\n",
    "print(metrics.accuracy_score( \\\n",
    "                             dfTests[['poisonous']].values.ravel(), \\\n",
    "                             dfTests[['preAll']].values))"
   ]
  },
  {
   "cell_type": "markdown",
   "metadata": {},
   "source": [
    "# Conclusions using scikit-learn results:\n",
    "The results of the accuracy scores show that the mushroom cap-color is not a very effective predictor of edibility, with an accuracy score of only 0.54. On the other hand, mushroom odor appears to be a a much better predictor of edibillity. It has an accuracy of 1.0. "
   ]
  }
 ],
 "metadata": {
  "kernelspec": {
   "display_name": "Python 3",
   "language": "python",
   "name": "python3"
  },
  "language_info": {
   "codemirror_mode": {
    "name": "ipython",
    "version": 3
   },
   "file_extension": ".py",
   "mimetype": "text/x-python",
   "name": "python",
   "nbconvert_exporter": "python",
   "pygments_lexer": "ipython3",
   "version": "3.7.2"
  }
 },
 "nbformat": 4,
 "nbformat_minor": 2
}
