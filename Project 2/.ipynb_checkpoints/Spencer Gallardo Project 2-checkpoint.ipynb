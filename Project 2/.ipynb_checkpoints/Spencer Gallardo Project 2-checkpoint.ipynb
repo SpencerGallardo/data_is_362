{
 "cells": [
  {
   "cell_type": "markdown",
   "metadata": {},
   "source": [
    "# Spencergallardo.com Users"
   ]
  },
  {
   "cell_type": "markdown",
   "metadata": {},
   "source": [
    "I have collected data on users who visit my website. I want to know where they are located by city, and if city is unavailable then by the state they live in.\n",
    "\n",
    "I Want to know:\n",
    "\n",
    "1. What city has the most female users.\n",
    "2. What city has the most male users.\n",
    "3. What state has the largest number of users over the age of 30.\n",
    "4. What state has the largest number of users under the age of 30."
   ]
  },
  {
   "cell_type": "code",
   "execution_count": 6,
   "metadata": {},
   "outputs": [
    {
     "data": {
      "text/html": [
       "<div>\n",
       "<style scoped>\n",
       "    .dataframe tbody tr th:only-of-type {\n",
       "        vertical-align: middle;\n",
       "    }\n",
       "\n",
       "    .dataframe tbody tr th {\n",
       "        vertical-align: top;\n",
       "    }\n",
       "\n",
       "    .dataframe thead th {\n",
       "        text-align: right;\n",
       "    }\n",
       "</style>\n",
       "<table border=\"1\" class=\"dataframe\">\n",
       "  <thead>\n",
       "    <tr style=\"text-align: right;\">\n",
       "      <th></th>\n",
       "      <th>first</th>\n",
       "      <th>last</th>\n",
       "      <th>gender</th>\n",
       "      <th>email</th>\n",
       "      <th>address</th>\n",
       "      <th>city</th>\n",
       "      <th>state</th>\n",
       "      <th>zip</th>\n",
       "      <th>age</th>\n",
       "    </tr>\n",
       "  </thead>\n",
       "  <tbody>\n",
       "    <tr>\n",
       "      <th>0</th>\n",
       "      <td>Mathilda</td>\n",
       "      <td>Barton</td>\n",
       "      <td>Male</td>\n",
       "      <td>hitesre@nabju.bd</td>\n",
       "      <td>822 Nagaj Lane</td>\n",
       "      <td>Ijijne</td>\n",
       "      <td>TX</td>\n",
       "      <td>46333</td>\n",
       "      <td>19</td>\n",
       "    </tr>\n",
       "    <tr>\n",
       "      <th>1</th>\n",
       "      <td>Teresa</td>\n",
       "      <td>Foster</td>\n",
       "      <td>Female</td>\n",
       "      <td>ekzarmes@pefalez.om</td>\n",
       "      <td>1761 Kano Way</td>\n",
       "      <td>Lidkegimi</td>\n",
       "      <td>VA</td>\n",
       "      <td>75671</td>\n",
       "      <td>36</td>\n",
       "    </tr>\n",
       "    <tr>\n",
       "      <th>2</th>\n",
       "      <td>Keith</td>\n",
       "      <td>Norman</td>\n",
       "      <td>Female</td>\n",
       "      <td>enoufi@mufpa.hk</td>\n",
       "      <td>1734 Nadco Center</td>\n",
       "      <td>Nadferi</td>\n",
       "      <td>KS</td>\n",
       "      <td>19335</td>\n",
       "      <td>50</td>\n",
       "    </tr>\n",
       "    <tr>\n",
       "      <th>3</th>\n",
       "      <td>Vera</td>\n",
       "      <td>French</td>\n",
       "      <td>Female</td>\n",
       "      <td>si@genemhu.pr</td>\n",
       "      <td>1994 Juuvu Terrace</td>\n",
       "      <td>Gefopobob</td>\n",
       "      <td>ME</td>\n",
       "      <td>62221</td>\n",
       "      <td>61</td>\n",
       "    </tr>\n",
       "    <tr>\n",
       "      <th>4</th>\n",
       "      <td>Nannie</td>\n",
       "      <td>Baker</td>\n",
       "      <td>Female</td>\n",
       "      <td>kipaweg@uto.et</td>\n",
       "      <td>809 Kegadu Plaza</td>\n",
       "      <td>Kemuhla</td>\n",
       "      <td>AR</td>\n",
       "      <td>79723</td>\n",
       "      <td>56</td>\n",
       "    </tr>\n",
       "  </tbody>\n",
       "</table>\n",
       "</div>"
      ],
      "text/plain": [
       "      first    last  gender                email             address  \\\n",
       "0  Mathilda  Barton    Male     hitesre@nabju.bd      822 Nagaj Lane   \n",
       "1    Teresa  Foster  Female  ekzarmes@pefalez.om       1761 Kano Way   \n",
       "2     Keith  Norman  Female      enoufi@mufpa.hk   1734 Nadco Center   \n",
       "3      Vera  French  Female        si@genemhu.pr  1994 Juuvu Terrace   \n",
       "4    Nannie   Baker  Female       kipaweg@uto.et    809 Kegadu Plaza   \n",
       "\n",
       "        city state    zip  age  \n",
       "0     Ijijne    TX  46333   19  \n",
       "1  Lidkegimi    VA  75671   36  \n",
       "2    Nadferi    KS  19335   50  \n",
       "3  Gefopobob    ME  62221   61  \n",
       "4    Kemuhla    AR  79723   56  "
      ]
     },
     "execution_count": 6,
     "metadata": {},
     "output_type": "execute_result"
    }
   ],
   "source": [
    "import numpy as np\n",
    "import pandas as pd\n",
    "#set some pandas options controling output format\n",
    "pd.set_option('display.notebook_repr_html',True) # output as flat text and not HTML\n",
    "pd.set_option('display.max_rows', None) # this is the maximum number of rows we will display\n",
    "pd.set_option('display.max_columns', None) # this is the maximum number of rows we will display\n",
    "\n",
    "# read the csv into a dataframe, and force postal_code to be interpreted as a string.\n",
    "users = pd.read_csv('data/sg_users.csv', dtype={'zip': str})\n",
    "\n",
    "# Display the columns in the dataframe, and get a peak at how it's formatted\n",
    "users.head()"
   ]
  },
  {
   "cell_type": "code",
   "execution_count": 28,
   "metadata": {},
   "outputs": [
    {
     "data": {
      "text/html": [
       "<div>\n",
       "<style scoped>\n",
       "    .dataframe tbody tr th:only-of-type {\n",
       "        vertical-align: middle;\n",
       "    }\n",
       "\n",
       "    .dataframe tbody tr th {\n",
       "        vertical-align: top;\n",
       "    }\n",
       "\n",
       "    .dataframe thead th {\n",
       "        text-align: right;\n",
       "    }\n",
       "</style>\n",
       "<table border=\"1\" class=\"dataframe\">\n",
       "  <thead>\n",
       "    <tr style=\"text-align: right;\">\n",
       "      <th></th>\n",
       "      <th>state</th>\n",
       "      <th>younger_30</th>\n",
       "      <th>older_30</th>\n",
       "    </tr>\n",
       "  </thead>\n",
       "  <tbody>\n",
       "    <tr>\n",
       "      <th>4</th>\n",
       "      <td>FL</td>\n",
       "      <td>3</td>\n",
       "      <td>1</td>\n",
       "    </tr>\n",
       "  </tbody>\n",
       "</table>\n",
       "</div>"
      ],
      "text/plain": [
       "  state  younger_30  older_30\n",
       "4    FL           3         1"
      ]
     },
     "execution_count": 28,
     "metadata": {},
     "output_type": "execute_result"
    }
   ],
   "source": [
    "# get rid of rows without a city, state, zip, and age\n",
    "users.dropna(subset=['city', 'state', 'zip', 'age'], how='all', inplace=True)\n",
    "\n",
    "# create a dataframe with the number users younger than 30 by State. Dropping NaN state values.\n",
    "younger_users = users.dropna(subset=['state'], how='any') \\\n",
    "                [(users.dropna(subset=['state'], how='any').age <= 30)] \\\n",
    "                .groupby('state') \\\n",
    "                .state.count() \\\n",
    "                .reset_index(name='younger_30') \\\n",
    "                .sort_values(['state'], ascending=True)\n",
    "\n",
    "# create a dataframe with the number users older than 30 by State. Dropping NaN state values.\n",
    "older_users = users.dropna(subset=['state'], how='any') \\\n",
    "                [(users.dropna(subset=['state'], how='any').age >= 30)] \\\n",
    "                .groupby('state') \\\n",
    "                .state.count() \\\n",
    "                .reset_index(name='older_30') \\\n",
    "                .sort_values(['state'], ascending=True)\n",
    "\n",
    "# join the two series into one dataframe\n",
    "younger_users = younger_users.join(older_users.older_30)\n",
    "\n",
    "# return the state with the users under than 30\n",
    "younger_users.sort_values('younger_30', ascending=False).head(1)"
   ]
  },
  {
   "cell_type": "code",
   "execution_count": 29,
   "metadata": {},
   "outputs": [
    {
     "data": {
      "text/html": [
       "<div>\n",
       "<style scoped>\n",
       "    .dataframe tbody tr th:only-of-type {\n",
       "        vertical-align: middle;\n",
       "    }\n",
       "\n",
       "    .dataframe tbody tr th {\n",
       "        vertical-align: top;\n",
       "    }\n",
       "\n",
       "    .dataframe thead th {\n",
       "        text-align: right;\n",
       "    }\n",
       "</style>\n",
       "<table border=\"1\" class=\"dataframe\">\n",
       "  <thead>\n",
       "    <tr style=\"text-align: right;\">\n",
       "      <th></th>\n",
       "      <th>state</th>\n",
       "      <th>younger_30</th>\n",
       "      <th>older_30</th>\n",
       "    </tr>\n",
       "  </thead>\n",
       "  <tbody>\n",
       "    <tr>\n",
       "      <th>1</th>\n",
       "      <td>AZ</td>\n",
       "      <td>3</td>\n",
       "      <td>4</td>\n",
       "    </tr>\n",
       "  </tbody>\n",
       "</table>\n",
       "</div>"
      ],
      "text/plain": [
       "  state  younger_30  older_30\n",
       "1    AZ           3         4"
      ]
     },
     "execution_count": 29,
     "metadata": {},
     "output_type": "execute_result"
    }
   ],
   "source": [
    "# return the state with the most male users\n",
    "younger_users.sort_values('older_30', ascending=False).head(1)"
   ]
  },
  {
   "cell_type": "code",
   "execution_count": 43,
   "metadata": {},
   "outputs": [
    {
     "data": {
      "text/html": [
       "<div>\n",
       "<style scoped>\n",
       "    .dataframe tbody tr th:only-of-type {\n",
       "        vertical-align: middle;\n",
       "    }\n",
       "\n",
       "    .dataframe tbody tr th {\n",
       "        vertical-align: top;\n",
       "    }\n",
       "\n",
       "    .dataframe thead th {\n",
       "        text-align: right;\n",
       "    }\n",
       "</style>\n",
       "<table border=\"1\" class=\"dataframe\">\n",
       "  <thead>\n",
       "    <tr style=\"text-align: right;\">\n",
       "      <th></th>\n",
       "      <th>city</th>\n",
       "      <th>state</th>\n",
       "      <th>female_count</th>\n",
       "      <th>male_count</th>\n",
       "    </tr>\n",
       "  </thead>\n",
       "  <tbody>\n",
       "    <tr>\n",
       "      <th>0</th>\n",
       "      <td>Amilavuho</td>\n",
       "      <td>NH</td>\n",
       "      <td>1</td>\n",
       "      <td>1.0</td>\n",
       "    </tr>\n",
       "  </tbody>\n",
       "</table>\n",
       "</div>"
      ],
      "text/plain": [
       "        city state  female_count  male_count\n",
       "0  Amilavuho    NH             1         1.0"
      ]
     },
     "execution_count": 43,
     "metadata": {},
     "output_type": "execute_result"
    }
   ],
   "source": [
    "# create a dataframe with the number of female users by city\n",
    "city_users = users.dropna(subset=['city'], how='any') \\\n",
    "                [(users.dropna(subset=['city'], how='any').gender == 'Female')] \\\n",
    "                .groupby(['city', 'state']) \\\n",
    "                .city.count() \\\n",
    "                .reset_index(name='female_count') \\\n",
    "                .sort_values(['city','state'], ascending=[True,True])\n",
    "\n",
    "# create a dataframe with the number of male users by city\n",
    "male_users = users.dropna(subset=['city'], how='any') \\\n",
    "                [(users.dropna(subset=['city'], how='any').gender == 'Male')] \\\n",
    "                .groupby(['city','state']) \\\n",
    "                .city.count() \\\n",
    "                .reset_index(name='male_count') \\\n",
    "                .sort_values(['city', 'state'], ascending=[True,True])\n",
    "                \n",
    "# join the two series into one dataframe\n",
    "city_users = city_users.join(male_users.male_count)\n",
    "city_users.male_count = male_users.male_count.astype(int)\n",
    "\n",
    "# return the city with the most female users\n",
    "city_users.sort_values('female_count', ascending=False).head(1)"
   ]
  },
  {
   "cell_type": "code",
   "execution_count": 54,
   "metadata": {},
   "outputs": [
    {
     "data": {
      "text/html": [
       "<div>\n",
       "<style scoped>\n",
       "    .dataframe tbody tr th:only-of-type {\n",
       "        vertical-align: middle;\n",
       "    }\n",
       "\n",
       "    .dataframe tbody tr th {\n",
       "        vertical-align: top;\n",
       "    }\n",
       "\n",
       "    .dataframe thead th {\n",
       "        text-align: right;\n",
       "    }\n",
       "</style>\n",
       "<table border=\"1\" class=\"dataframe\">\n",
       "  <thead>\n",
       "    <tr style=\"text-align: right;\">\n",
       "      <th></th>\n",
       "      <th>city</th>\n",
       "      <th>state</th>\n",
       "      <th>female_count</th>\n",
       "      <th>male_count</th>\n",
       "    </tr>\n",
       "  </thead>\n",
       "  <tbody>\n",
       "    <tr>\n",
       "      <th>0</th>\n",
       "      <td>Amilavuho</td>\n",
       "      <td>NH</td>\n",
       "      <td>1</td>\n",
       "      <td>1.0</td>\n",
       "    </tr>\n",
       "  </tbody>\n",
       "</table>\n",
       "</div>"
      ],
      "text/plain": [
       "        city state  female_count  male_count\n",
       "0  Amilavuho    NH             1         1.0"
      ]
     },
     "execution_count": 54,
     "metadata": {},
     "output_type": "execute_result"
    }
   ],
   "source": [
    "# return the city with the most male users\n",
    "city_users.sort_values('male_count', ascending=False).head(1)"
   ]
  }
 ],
 "metadata": {
  "kernelspec": {
   "display_name": "Python 3",
   "language": "python",
   "name": "python3"
  },
  "language_info": {
   "codemirror_mode": {
    "name": "ipython",
    "version": 3
   },
   "file_extension": ".py",
   "mimetype": "text/x-python",
   "name": "python",
   "nbconvert_exporter": "python",
   "pygments_lexer": "ipython3",
   "version": "3.7.2"
  }
 },
 "nbformat": 4,
 "nbformat_minor": 2
}
