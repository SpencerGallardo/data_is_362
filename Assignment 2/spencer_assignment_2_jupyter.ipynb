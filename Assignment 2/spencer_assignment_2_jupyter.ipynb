{
 "cells": [
  {
   "cell_type": "markdown",
   "metadata": {},
   "source": [
    "# Some Python Functions\n",
    "## <u>The zip() function</u>\n",
    "The zip function combines multiple arrays into a nested list.\n",
    "\n",
    "Below we create five lists each containing 3 elements."
   ]
  },
  {
   "cell_type": "code",
   "execution_count": 100,
   "metadata": {
    "collapsed": true
   },
   "outputs": [],
   "source": [
    "gamePartOne = ['Hi!', 'Hi!', 'Hi!']\n",
    "gamePartTwo = [\"How can I help??\", \"How can I help??\", \"How can I help??\"]\n",
    "gamePartThree = [\"What's your favorite game?.\", \"What's your favorite food?\", \"What's your favorite movie?\"]\n",
    "gamePartFour = [\"I don't know\",\"Let me think about that\", \"I don't want to answer\"]\n",
    "gamePartFive = [\"Oh c'mon!\",\"Please tell me!.\", \"Why not?\"]"
   ]
  },
  {
   "cell_type": "markdown",
   "metadata": {},
   "source": [
    "Using the zip function we can zip the list into a nested list"
   ]
  },
  {
   "cell_type": "code",
   "execution_count": 101,
   "metadata": {},
   "outputs": [
    {
     "ename": "NameError",
     "evalue": "name 'listThree' is not defined",
     "output_type": "error",
     "traceback": [
      "\u001b[1;31m---------------------------------------------------------------------------\u001b[0m",
      "\u001b[1;31mNameError\u001b[0m                                 Traceback (most recent call last)",
      "\u001b[1;32m<ipython-input-101-633f146fd299>\u001b[0m in \u001b[0;36m<module>\u001b[1;34m()\u001b[0m\n\u001b[0;32m      2\u001b[0m     \u001b[0mlistFirst\u001b[0m\u001b[1;33m,\u001b[0m\u001b[1;33m\u001b[0m\u001b[0m\n\u001b[0;32m      3\u001b[0m     \u001b[0mlistTwo\u001b[0m\u001b[1;33m,\u001b[0m\u001b[1;33m\u001b[0m\u001b[0m\n\u001b[1;32m----> 4\u001b[1;33m     \u001b[0mlistThree\u001b[0m\u001b[1;33m,\u001b[0m\u001b[1;33m\u001b[0m\u001b[0m\n\u001b[0m\u001b[0;32m      5\u001b[0m     \u001b[0mlistFour\u001b[0m\u001b[1;33m,\u001b[0m\u001b[1;33m\u001b[0m\u001b[0m\n\u001b[0;32m      6\u001b[0m     listFive))\n",
      "\u001b[1;31mNameError\u001b[0m: name 'listThree' is not defined"
     ]
    }
   ],
   "source": [
    "listResults = list(zip(\n",
    "    listFirst, \n",
    "    listTwo,\n",
    "    listThree,\n",
    "    listFour,\n",
    "    listFive))"
   ]
  },
  {
   "cell_type": "markdown",
   "metadata": {},
   "source": [
    "Below is the nested list:"
   ]
  },
  {
   "cell_type": "code",
   "execution_count": 102,
   "metadata": {},
   "outputs": [
    {
     "data": {
      "text/plain": [
       "[('Hi!',\n",
       "  \"How can I help??\",\n",
       "  'What's your favorite game?.',\n",
       "  'I don't know',\n",
       "  'Oh c'mon!'),\n",
       " ('Hi!',\n",
       "  \"How can I help??\",\n",
       "  'What's your favorite food?',\n",
       "  'Let me think about that',\n",
       "  \"Please tell me!\"),\n",
       " ('Hi!',\n",
       "  \"How can I help??\",\n",
       "  'What's your favorite movie?',\n",
       "  'I don't want to answer',\n",
       "  \"Why not?\")]"
      ]
     },
     "execution_count": 102,
     "metadata": {},
     "output_type": "execute_result"
    }
   ],
   "source": [
    "theComedian"
   ]
  },
  {
   "cell_type": "markdown",
   "metadata": {},
   "source": [
    "## <u>The max() function</u>\n",
    "The max() function returns the largest element in a list passed to it."
   ]
  },
  {
   "cell_type": "code",
   "execution_count": 103,
   "metadata": {
    "collapsed": true
   },
   "outputs": [],
   "source": [
    "listFirst = [23, 123, 42, 255, 896, 56, 332]"
   ]
  },
  {
   "cell_type": "markdown",
   "metadata": {},
   "source": [
    "Using the max() function the largest element in the list is output."
   ]
  },
  {
   "cell_type": "code",
   "execution_count": 104,
   "metadata": {},
   "outputs": [
    {
     "data": {
      "text/plain": [
       "896"
      ]
     },
     "execution_count": 104,
     "metadata": {},
     "output_type": "execute_result"
    }
   ],
   "source": [
    "max(listFirst)"
   ]
  },
  {
   "cell_type": "markdown",
   "metadata": {},
   "source": [
    "## <u>The map() function</u>\n",
    "The map() function applies the supplied function to every element in a list.\n",
    "\n",
    "Below is a simple function that returns the square of the argument passed to it. "
   ]
  },
  {
   "cell_type": "code",
   "execution_count": 105,
   "metadata": {},
   "outputs": [],
   "source": [
    "def square(num):\n",
    "    return (num**2)"
   ]
  },
  {
   "cell_type": "markdown",
   "metadata": {},
   "source": [
    "Below we use the map funtion and output the list of results."
   ]
  },
  {
   "cell_type": "code",
   "execution_count": 107,
   "metadata": {},
   "outputs": [
    {
     "data": {
      "text/plain": [
       "[529, 15129, 1764, 65025, 802816, 3136, 110224]"
      ]
     },
     "execution_count": 107,
     "metadata": {},
     "output_type": "execute_result"
    }
   ],
   "source": [
    "list(map(square, listFirst))"
   ]
  }
 ],
 "metadata": {
  "kernelspec": {
   "display_name": "Python 3",
   "language": "python",
   "name": "python3"
  },
  "language_info": {
   "codemirror_mode": {
    "name": "ipython",
    "version": 3
   },
   "file_extension": ".py",
   "mimetype": "text/x-python",
   "name": "python",
   "nbconvert_exporter": "python",
   "pygments_lexer": "ipython3",
   "version": "3.6.1"
  }
 },
 "nbformat": 4,
 "nbformat_minor": 2
}