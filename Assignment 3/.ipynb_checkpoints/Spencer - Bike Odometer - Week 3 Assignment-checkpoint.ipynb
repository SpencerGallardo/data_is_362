{
 "cells": [
  {
   "cell_type": "markdown",
   "metadata": {},
   "source": [
    "# Odotmeter Week 3 Assingment"
   ]
  },
  {
   "cell_type": "markdown",
   "metadata": {},
   "source": [
    "Importing libraries"
   ]
  },
  {
   "cell_type": "code",
   "execution_count": 29,
   "metadata": {},
   "outputs": [],
   "source": [
    "# import the randint function from random\n",
    "from random import randint"
   ]
  },
  {
   "cell_type": "code",
   "execution_count": 24,
   "metadata": {},
   "outputs": [],
   "source": [
    "# import pandas and numpy\n",
    "import numpy as np\n",
    "import pandas as pd"
   ]
  },
  {
   "cell_type": "markdown",
   "metadata": {},
   "source": [
    "Body Script Below"
   ]
  },
  {
   "cell_type": "code",
   "execution_count": 28,
   "metadata": {},
   "outputs": [],
   "source": [
    "# create a funtion to supply random distances between 55 miles \n",
    "# and 65 miles to assign cumulative distances to the aray\n",
    "def getRandDistance():\n",
    "    global odometer \n",
    "    odometer += randint(55,65)\n",
    "    return odometer"
   ]
  },
  {
   "cell_type": "code",
   "execution_count": 30,
   "metadata": {},
   "outputs": [
    {
     "data": {
      "text/plain": [
       "0     59\n",
       "1    120\n",
       "2    179\n",
       "3    242\n",
       "4    299\n",
       "5    359\n",
       "6    421\n",
       "7    483\n",
       "dtype: int64"
      ]
     },
     "execution_count": 30,
     "metadata": {},
     "output_type": "execute_result"
    }
   ],
   "source": [
    "# Create a series with the cumulative odometer readings using \n",
    "# Using the newDistance function to increment it\n",
    "\n",
    "# create a variable that will represent our odometer\n",
    "odometer = 0\n",
    "\n",
    "# initialize the series\n",
    "pdDistance = pd.Series([getRandDistance(),\n",
    "                        getRandDistance(),\n",
    "                        getRandDistance(),\n",
    "                        getRandDistance(),\n",
    "                        getRandDistance(),\n",
    "                        getRandDistance(),\n",
    "                        getRandDistance(),\n",
    "                        getRandDistance()])\n",
    "\n",
    "# output the series\n",
    "pdDistance"
   ]
  },
  {
   "cell_type": "code",
   "execution_count": 32,
   "metadata": {},
   "outputs": [],
   "source": [
    "# creating a function that returns the difference between a passed\n",
    "# series index and the one before it\n",
    "def getDailyDist(sIndex):\n",
    "    global pdDistance\n",
    "    if sIndex <= pdDistance.size - 1 and sIndex >= 0:\n",
    "        if sIndex > 0:\n",
    "            return pdDistance[sIndex] - pdDistance[sIndex-1]\n",
    "        else:\n",
    "            return pdDistance[0]\n",
    "    else:\n",
    "        print('Error: getDailyDist, index is out of range. Returning last element.')\n",
    "        return pdDistance[pdDistance.size-1]"
   ]
  },
  {
   "cell_type": "code",
   "execution_count": 46,
   "metadata": {},
   "outputs": [
    {
     "name": "stdout",
     "output_type": "stream",
     "text": [
      "You traveled 59 miles on day 1 . Your total destance at this point was 59 .\n",
      "You traveled 61 miles on day 2 . Your total destance at this point was 120 .\n",
      "You traveled 59 miles on day 3 . Your total destance at this point was 179 .\n",
      "You traveled 63 miles on day 4 . Your total destance at this point was 242 .\n",
      "You traveled 57 miles on day 5 . Your total destance at this point was 299 .\n",
      "You traveled 60 miles on day 6 . Your total destance at this point was 359 .\n",
      "You traveled 62 miles on day 7 . Your total destance at this point was 421 .\n",
      "You traveled 62 miles on day 8 . Your total destance at this point was 483 .\n"
     ]
    }
   ],
   "source": [
    "# distance object of the individual daily distances\n",
    "for i in range(0, pdDistance.size):\n",
    "    print('You traveled', getDailyDist(i), 'miles on day' ,i+1,'. Your total destance at this point was',pdDistance[i],'.')"
   ]
  }
 ],
 "metadata": {
  "kernelspec": {
   "display_name": "Python 3",
   "language": "python",
   "name": "python3"
  },
  "language_info": {
   "codemirror_mode": {
    "name": "ipython",
    "version": 3
   },
   "file_extension": ".py",
   "mimetype": "text/x-python",
   "name": "python",
   "nbconvert_exporter": "python",
   "pygments_lexer": "ipython3",
   "version": "3.7.2"
  }
 },
 "nbformat": 4,
 "nbformat_minor": 2
}
